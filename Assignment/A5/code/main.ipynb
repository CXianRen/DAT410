{
 "cells": [
  {
   "cell_type": "markdown",
   "metadata": {},
   "source": [
    "For Aassigment 5 Machine Translation: IBM Model 1"
   ]
  },
  {
   "cell_type": "code",
   "execution_count": 17,
   "metadata": {},
   "outputs": [
    {
     "name": "stdout",
     "output_type": "stream",
     "text": [
      "English: [('the', 19627), ('of', 9534), ('to', 8992), ('and', 7214), ('in', 6197), ('is', 4453), ('that', 4421), ('a', 4388), ('we', 3341), ('this', 3332)]\n",
      "French: [('apos', 16729), ('de', 14528), ('la', 9746), ('et', 6620), ('l', 6536), ('le', 6177), ('à', 5588), ('les', 5587), ('des', 5232), ('que', 4797)]\n",
      "English:0.004571%\n",
      "English:0.000000%\n"
     ]
    }
   ],
   "source": [
    "# write code to collect statistics about word frequencies in the two languages. \n",
    "# Print the 10 most frequent words in each language.\n",
    "# using a Counter\n",
    "from collections import Counter\n",
    "import re\n",
    "\n",
    "def get_words(filename):\n",
    "    with open(filename, 'r') as f:\n",
    "        text = f.read()\n",
    "    words = re.findall(r'\\w+', text.lower())\n",
    "    return words\n",
    "\n",
    "def get_10_most_frequent_words():\n",
    "    english_words = get_words('./dat410_europarl/europarl-v7.fr-en.lc.en')\n",
    "    french_words = get_words('./dat410_europarl/europarl-v7.fr-en.lc.fr')\n",
    "    english_word_counts = Counter(english_words)\n",
    "    french_word_counts = Counter(french_words)\n",
    "    print('English:', english_word_counts.most_common(10))\n",
    "    print('French:', french_word_counts.most_common(10))\n",
    "\n",
    "get_10_most_frequent_words()\n",
    "\n",
    "# print the probabitly of \"zebra\" in the two languages\n",
    "english_words = get_words('./dat410_europarl/europarl-v7.fr-en.lc.en')\n",
    "english_word_counts = Counter(english_words)\n",
    "print(\"English:%f%%\" % (english_word_counts['speaker'] / len(english_words) * 100)) \n",
    "print(\"English:%f%%\" % (english_word_counts['zebra'] / len(english_words) * 100))"
   ]
  },
  {
   "cell_type": "code",
   "execution_count": 79,
   "metadata": {},
   "outputs": [
    {
     "name": "stdout",
     "output_type": "stream",
     "text": [
      "----- Normal case\n",
      "P('the house rose') is 0.000013543729801 \n",
      "-----\n",
      "P('it says that this should be done') is 0.000000000931698 \n",
      "----- Non exist\n",
      "P('the house rose NNN') is 0.000000000051588 \n",
      "----- over length\n",
      "len(23) ,P('you will b ...') is 0.000000000000000 \n"
     ]
    }
   ],
   "source": [
    "# bigram language model\n",
    "\n",
    "from math import log,exp\n",
    "\n",
    "class BigramLanguageModel:\n",
    "    def __init__(self, words):\n",
    "        self.bigrams = Counter(zip(words, words[1:]))\n",
    "        self.unigrams = Counter(words)\n",
    "        self.total = len(words)\n",
    "\n",
    "    def probability_w(self, word1, word2):\n",
    "        if self.unigrams[word1] == 0 \\\n",
    "            or self.unigrams[word2] ==0 \\\n",
    "            or self.bigrams[(word1,word2)] == 0:\n",
    "            # if word non exist\n",
    "            return 1.0 / (self.total + 1)\n",
    "        return self.bigrams[(word1,word2)]/self.unigrams[word1]\n",
    "    \n",
    "    def calculate_p_s(self, words: list):\n",
    "        # length of words should be at least 1\n",
    "        if len(words) == 0: return 1\n",
    "        Ps=1.0 # the probability_w (words[0]|<start>) is 1\n",
    "        for i in range(1,len(words)):\n",
    "            pt = self.probability_w(words[i-1],words[i])\n",
    "            Ps = Ps* pt\n",
    "            # print(\"P(%s|%s) is %.15f \\t P(S): %.15f\" %(words[i],words[i-1], pt, Ps))\n",
    "            # print(\"\\t (%s, %s):%d, (%s): %d\" %(words[i-1],words[i],\n",
    "            #                                    self.bigrams[(words[i-1],words[i])], \n",
    "            #                                    words[i-1],\n",
    "            #                                    self.unigrams[words[i-1]]))\n",
    "        return Ps\n",
    "    \n",
    "    def calculate_p_s_log(self, words: list):\n",
    "        # length of words should be at least 1\n",
    "        if len(words) == 0: return 1\n",
    "        Ps=0.0 # the probability_w (words[0]|<start>) is 1\n",
    "        for i in range(1,len(words)):\n",
    "            pt = log(self.probability_w(words[i-1],words[i]))\n",
    "            Ps = Ps + pt\n",
    "            # print(\"P(%s|%s) is %.15f \\t P(S): %.15f\" %(words[i],words[i-1], pt, Ps))\n",
    "            # print(\"\\t (%s, %s):%d, (%s): %d\" %(words[i-1],words[i],\n",
    "            #                                    self.bigrams[(words[i-1],words[i])], \n",
    "            #                                    words[i-1],\n",
    "            #                                    self.unigrams[words[i-1]]))\n",
    "        return exp(Ps)\n",
    "\n",
    "En_bigramM = BigramLanguageModel(english_words)\n",
    "\n",
    "# print(english_words[:100])\n",
    "\n",
    "# debug\n",
    "# En_bigamM.probability_w('please','open') \n",
    "# En_bigamM.bigrams.most_common(10)\n",
    "# \n",
    "\n",
    "# case 1 normal short sentence \"the house rose\", from dataset\n",
    "print(\"----- Normal case\")\n",
    "sentence = \"the house rose\"\n",
    "print(\"P('%s') is %.15f, lP: %.15f \" % (sentence, \n",
    "                En_bigramM.calculate_p_s(sentence.split(' '))), \n",
    "                En_bigramM.calculate_p_s_log(sentence.split(' '))) ) \n",
    "print(\"-----\")\n",
    "sentence = \"it says that this should be done\"\n",
    "print(\"P('%s') is %.15f \" % (sentence, En_bigramM.calculate_p_s(sentence.split(' '))) ) \n",
    "\n",
    "# case 2 words non exist\n",
    "print(\"----- Non exist\")\n",
    "sentence = \"the house rose NNN\"\n",
    "print(\"P('%s') is %.15f \" % (sentence, En_bigramM.calculate_p_s(sentence.split(' '))) ) \n",
    "\n",
    "# case 3 words super length\n",
    "print(\"----- over length\")\n",
    "sentence = \"you will be aware from the press and television that there have been a number of bomb explosions and killings in sri lanka\"\n",
    "print(\"len(%d) ,P('%s ...') is %.15f \" % (len(sentence.split(\" \")),sentence[:10], En_bigramM.calculate_p_s(sentence.split(' '))) ) \n"
   ]
  }
 ],
 "metadata": {
  "kernelspec": {
   "display_name": "Python 3",
   "language": "python",
   "name": "python3"
  },
  "language_info": {
   "codemirror_mode": {
    "name": "ipython",
    "version": 3
   },
   "file_extension": ".py",
   "mimetype": "text/x-python",
   "name": "python",
   "nbconvert_exporter": "python",
   "pygments_lexer": "ipython3",
   "version": "3.8.10"
  }
 },
 "nbformat": 4,
 "nbformat_minor": 2
}
