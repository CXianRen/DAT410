{
 "cells": [
  {
   "cell_type": "code",
   "execution_count": 2,
   "metadata": {},
   "outputs": [
    {
     "name": "stdout",
     "output_type": "stream",
     "text": [
      "[DEBUG] matching_symptoms: ['itching']\n",
      "[DEBUG] diseases: [34  8 19  3 35  4 28  9 14 15] [0.00048667 0.00076198 0.00310375 0.00313387 0.00540128 0.00540184\n",
      " 0.03901255 0.12510835 0.38583595 0.38733182]\n",
      "[DEBUG] diseases: ['Chronic cholestasis', 'Drug Reaction', 'Fungal infection']\n",
      "[DEBUG] disease: Fungal infection\n",
      "[DEBUG] description: In humans, fungal infections occur when an invading fungus takes over an area of the body and is too much for the immune system to handle. Fungi can live in the air, soil, water, and plants. There are also some fungi that live naturally in the human body. Like many microbes, there are helpful fungi and harmful fungi.\n",
      "[DEBUG] precautions: bath twice,use detol or neem in bathing water,keep infected area dry,use clean cloths\n",
      "[DEBUG] other_symptoms: ['itching', 'skin_rash', 'nodal_skin_eruptions', 'dischromic_patches']\n"
     ]
    },
    {
     "name": "stderr",
     "output_type": "stream",
     "text": [
      "/chalmers/users/chenhon/DAT410/Assignment/A8/diagnostic_assistant/../diagnostic_assistant/base/agent.py:38: FutureWarning: Series.__getitem__ treating keys as positions is deprecated. In a future version, integer keys will always be treated as labels (consistent with DataFrame behavior). To access a value by position, use `ser.iloc[pos]`\n",
      "  if type(row[i]) is float:\n",
      "/chalmers/users/chenhon/DAT410/Assignment/A8/diagnostic_assistant/../diagnostic_assistant/base/agent.py:41: FutureWarning: Series.__getitem__ treating keys as positions is deprecated. In a future version, integer keys will always be treated as labels (consistent with DataFrame behavior). To access a value by position, use `ser.iloc[pos]`\n",
      "  if row[i] not in symptom_set:\n",
      "/chalmers/users/chenhon/DAT410/Assignment/A8/diagnostic_assistant/../diagnostic_assistant/base/agent.py:42: FutureWarning: Series.__getitem__ treating keys as positions is deprecated. In a future version, integer keys will always be treated as labels (consistent with DataFrame behavior). To access a value by position, use `ser.iloc[pos]`\n",
      "  symptom_set.append(row[i])\n"
     ]
    }
   ],
   "source": [
    "import sys\n",
    "sys.path.append('..')\n",
    "sys.path.append('.')\n",
    "\n",
    "from diagnostic_assistant.preprocess.load_data import * \n",
    "from diagnostic_assistant.utils.utils import symptom_to_label, \\\n",
    "    label_to_symptom, disease_to_label, label_to_disease,\\\n",
    "    convert_dis_to_onehot, convert_to_onehot, convert_to_symptoms, convert_to_disease\n",
    "\n",
    "\n",
    "from diagnostic_assistant.base.agent import DiagnosticAgent\n",
    "\n",
    "\n",
    "agent = DiagnosticAgent()\n",
    "\n",
    "symptoms = ['itching']\n",
    "matching_symptoms = agent.ask_matching_symptoms(symptoms)\n",
    "print(\"[DEBUG] matching_symptoms:\", matching_symptoms) \n",
    "topN, topNprob = agent.ask_disease(symptoms)\n",
    "\n",
    "print(\"[DEBUG] diseases:\", topN, topNprob)\n",
    "print(\"[DEBUG] diseases:\", [label_to_disease[d+1] for d in topN[-3:]])\n",
    "\n",
    "\n",
    "disease = label_to_disease[topN[-1]+1]\n",
    "print(\"[DEBUG] disease:\", disease)\n",
    "description = agent.ask_description(disease)\n",
    "print(\"[DEBUG] description:\", description)\n",
    "\n",
    "precautions = agent.ask_precautions(disease)\n",
    "print(\"[DEBUG] precautions:\", precautions)\n",
    "\n",
    "other_symptoms = agent.ask_other_symptoms(disease)\n",
    "print(\"[DEBUG] other_symptoms:\", other_symptoms)\n",
    "\n",
    "# print(\"[DEBUG] accuracy:\", agent.ask_accuracy())"
   ]
  }
 ],
 "metadata": {
  "kernelspec": {
   "display_name": "Python 3",
   "language": "python",
   "name": "python3"
  },
  "language_info": {
   "codemirror_mode": {
    "name": "ipython",
    "version": 3
   },
   "file_extension": ".py",
   "mimetype": "text/x-python",
   "name": "python",
   "nbconvert_exporter": "python",
   "pygments_lexer": "ipython3",
   "version": "3.10.13"
  }
 },
 "nbformat": 4,
 "nbformat_minor": 2
}
