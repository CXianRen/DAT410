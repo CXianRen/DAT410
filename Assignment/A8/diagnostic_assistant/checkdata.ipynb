{
 "cells": [
  {
   "cell_type": "code",
   "execution_count": 7,
   "metadata": {},
   "outputs": [
    {
     "name": "stdout",
     "output_type": "stream",
     "text": [
      "symptom_Description: has 41 rows, 2 columns\n",
      "dataset: has 4920 rows, 18 columns\n",
      "Symptom-severity: has 133 rows, 2 columns\n",
      "symptom_precaution: has 41 rows, 5 columns\n"
     ]
    }
   ],
   "source": [
    "import pandas as pd\n",
    "import glob\n",
    "\n",
    "# Read all the csv files in the current directory\n",
    "all_files = glob.glob('../data/*.csv')\n",
    "\n",
    "for filename in all_files:\n",
    "    df=pd.read_csv(filename)\n",
    "    # get the name of the file\n",
    "    name = filename.split('/')[-1].split('.')[0]\n",
    "    print(f'{name}: has {len(df)} rows, {df.shape[1]} columns')\n"
   ]
  },
  {
   "cell_type": "code",
   "execution_count": 3,
   "metadata": {},
   "outputs": [
    {
     "name": "stdout",
     "output_type": "stream",
     "text": [
      "['itching' 'skin_rash' 'nodal_skin_eruptions' 'continuous_sneezing'\n",
      " 'shivering' 'chills' 'joint_pain' 'stomach_pain' 'acidity'\n",
      " 'ulcers_on_tongue' 'muscle_wasting' 'vomiting' 'burning_micturition'\n",
      " 'spotting_urination' 'fatigue' 'weight_gain' 'anxiety'\n",
      " 'cold_hands_and_feets' 'mood_swings' 'weight_loss' 'restlessness'\n",
      " 'lethargy' 'patches_in_throat' 'irregular_sugar_level' 'cough'\n",
      " 'high_fever' 'sunken_eyes' 'breathlessness' 'sweating' 'dehydration'\n",
      " 'indigestion' 'headache' 'yellowish_skin' 'dark_urine' 'nausea'\n",
      " 'loss_of_appetite' 'pain_behind_the_eyes' 'back_pain' 'constipation'\n",
      " 'abdominal_pain' 'diarrhoea' 'mild_fever' 'yellow_urine'\n",
      " 'yellowing_of_eyes' 'acute_liver_failure' 'fluid_overload'\n",
      " 'swelling_of_stomach' 'swelled_lymph_nodes' 'malaise'\n",
      " 'blurred_and_distorted_vision' 'phlegm' 'throat_irritation'\n",
      " 'redness_of_eyes' 'sinus_pressure' 'runny_nose' 'congestion' 'chest_pain'\n",
      " 'weakness_in_limbs' 'fast_heart_rate' 'pain_during_bowel_movements'\n",
      " 'pain_in_anal_region' 'bloody_stool' 'irritation_in_anus' 'neck_pain'\n",
      " 'dizziness' 'cramps' 'bruising' 'obesity' 'swollen_legs'\n",
      " 'swollen_blood_vessels' 'puffy_face_and_eyes' 'enlarged_thyroid'\n",
      " 'brittle_nails' 'swollen_extremeties' 'excessive_hunger'\n",
      " 'extra_marital_contacts' 'drying_and_tingling_lips' 'slurred_speech'\n",
      " 'knee_pain' 'hip_joint_pain' 'muscle_weakness' 'stiff_neck'\n",
      " 'swelling_joints' 'movement_stiffness' 'spinning_movements'\n",
      " 'loss_of_balance' 'unsteadiness' 'weakness_of_one_body_side'\n",
      " 'loss_of_smell' 'bladder_discomfort' 'foul_smell_ofurine'\n",
      " 'continuous_feel_of_urine' 'passage_of_gases' 'internal_itching'\n",
      " 'toxic_look_(typhos)' 'depression' 'irritability' 'muscle_pain'\n",
      " 'altered_sensorium' 'red_spots_over_body' 'belly_pain'\n",
      " 'abnormal_menstruation' 'dischromic_patches' 'watering_from_eyes'\n",
      " 'increased_appetite' 'polyuria' 'family_history' 'mucoid_sputum'\n",
      " 'rusty_sputum' 'lack_of_concentration' 'visual_disturbances'\n",
      " 'receiving_blood_transfusion' 'receiving_unsterile_injections' 'coma'\n",
      " 'stomach_bleeding' 'distention_of_abdomen'\n",
      " 'history_of_alcohol_consumption' 'fluid_overload' 'blood_in_sputum'\n",
      " 'prominent_veins_on_calf' 'palpitations' 'painful_walking'\n",
      " 'pus_filled_pimples' 'blackheads' 'scurring' 'skin_peeling'\n",
      " 'silver_like_dusting' 'small_dents_in_nails' 'inflammatory_nails'\n",
      " 'blister' 'red_sore_around_nose' 'yellow_crust_ooze' 'prognosis']\n"
     ]
    }
   ],
   "source": [
    "import pandas as pd\n",
    "\n",
    "file = '../data/Symptom-severity.csv'\n",
    "\n",
    "df = pd.read_csv(file)\n",
    "\n",
    "# print(df.head())\n",
    "# print the first column\n",
    "print(df.iloc[:, 0].values)\n"
   ]
  },
  {
   "cell_type": "code",
   "execution_count": null,
   "metadata": {},
   "outputs": [],
   "source": []
  }
 ],
 "metadata": {
  "kernelspec": {
   "display_name": "Python 3",
   "language": "python",
   "name": "python3"
  },
  "language_info": {
   "codemirror_mode": {
    "name": "ipython",
    "version": 3
   },
   "file_extension": ".py",
   "mimetype": "text/x-python",
   "name": "python",
   "nbconvert_exporter": "python",
   "pygments_lexer": "ipython3",
   "version": "3.8.10"
  }
 },
 "nbformat": 4,
 "nbformat_minor": 2
}
