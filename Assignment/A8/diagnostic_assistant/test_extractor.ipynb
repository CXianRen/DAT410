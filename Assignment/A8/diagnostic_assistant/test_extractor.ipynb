{
 "cells": [
  {
   "cell_type": "code",
   "execution_count": 1,
   "metadata": {},
   "outputs": [
    {
     "name": "stdout",
     "output_type": "stream",
     "text": [
      "['itching']\n",
      "['itching', 'headache']\n",
      "['3 days']\n"
     ]
    }
   ],
   "source": [
    "# load data\n",
    "import sys\n",
    "sys.path.append('..')\n",
    "sys.path.append('.')\n",
    "\n",
    "from diagnostic_assistant.symptom_extraction.extractor import SymptomExtractor, DurationExtractor\n",
    "\n",
    "test_string = \"I am itching\"\n",
    "\n",
    "extractor = SymptomExtractor()\n",
    "\n",
    "symptoms = extractor.extract_symptoms(test_string)   \n",
    "print(symptoms)\n",
    "\n",
    "test_string = \"I am itching and I have a headache\"\n",
    "symptoms = extractor.extract_symptoms(test_string)\n",
    "print(symptoms)\n",
    "\n",
    "test_string = \"3 days ago I had a headache\"\n",
    "dextractor = DurationExtractor()\n",
    "duration = dextractor.extract_duration(test_string)\n",
    "print(duration)\n"
   ]
  }
 ],
 "metadata": {
  "kernelspec": {
   "display_name": "Python 3",
   "language": "python",
   "name": "python3"
  },
  "language_info": {
   "codemirror_mode": {
    "name": "ipython",
    "version": 3
   },
   "file_extension": ".py",
   "mimetype": "text/x-python",
   "name": "python",
   "nbconvert_exporter": "python",
   "pygments_lexer": "ipython3",
   "version": "3.10.13"
  }
 },
 "nbformat": 4,
 "nbformat_minor": 2
}
