{
 "cells": [
  {
   "cell_type": "code",
   "execution_count": 3,
   "metadata": {},
   "outputs": [],
   "source": [
    "# minmax algorithm\n",
    "# player: try to maximum the final score \n",
    "# computer: try to minimum player's final score\n",
    "# step 1\n",
    "#              :                             0  \n",
    "# player(max)  :           /                 |                 \\\n",
    "#              :          0                  0                 0\n",
    "# computer(min):      /   |   \\           /   |   \\          /   |   \\\n",
    "#              :     1    1    0         1    1    0        1    1    0\n",
    "# player(max)  :   / | \\  / |   | \\   / | \\ / | \\ / | \\  / | \\ / | \\ / | \\\n",
    "#              :  0 -1 1  0 1  -1 0  0 -1 1  0 1  -1 0  0 -1 1  0 1  -1 0\n",
    "\n",
    "# reference: https://en.wikipedia.org/wiki/Minimax#Maximin\n",
    "\n",
    "from tictactoe import *\n",
    "\n",
    "\n",
    "import math\n",
    "def minimax(game, depth, maximizing_player, memo={}):\n",
    "    if is_winner(game, COMPUTER): # computer win\n",
    "        return 1\n",
    "    if is_winner(game, PLAYER): # player win\n",
    "        return -1\n",
    "    if is_terminal(game) or depth == 0:\n",
    "        return 0\n",
    "    \n",
    "    # Check if the current game state has already been evaluated\n",
    "    state = tuple(game.board)\n",
    "    if state in memo:\n",
    "        return memo[state]\n",
    "    \n",
    "    # computer's move\n",
    "    if maximizing_player:\n",
    "        max_eval = -math.inf\n",
    "        for i in range(game.size):\n",
    "            for j in range(game.size):\n",
    "                if game.board[i * game.size + j] == EMPTY:\n",
    "                    game.board[i * game.size + j]  = COMPUTER\n",
    "                    eval = minimax(game, depth - 1, False, memo)\n",
    "                    game.board[i * game.size + j]  = EMPTY\n",
    "                    max_eval = max(max_eval, eval)\n",
    "        memo[state] = max_eval\n",
    "        return max_eval\n",
    "    else:\n",
    "        min_eval = math.inf\n",
    "        for i in range(game.size):\n",
    "            for j in range(game.size):\n",
    "                if game.board[i * game.size + j] == EMPTY == EMPTY:\n",
    "                    game.board[i * game.size + j] = PLAYER\n",
    "                    eval = minimax(game, depth - 1, True, memo)\n",
    "                    game.board[i * game.size + j] = EMPTY\n",
    "                    min_eval = min(min_eval, eval)\n",
    "        memo[state] = min_eval\n",
    "        return min_eval\n",
    "    \n",
    "\n",
    "minmax_memo = {}\n",
    "def policy_minimax(game, memo= minmax_memo):\n",
    "    best_move = None\n",
    "    best_eval = -math.inf\n",
    "    for i in range(game.size):\n",
    "        for j in range(game.size):\n",
    "            if game.board[i * game.size + j] == EMPTY:\n",
    "                game.board[i * game.size + j] = COMPUTER\n",
    "                eval = minimax(game, -1, False, memo)\n",
    "                game.board[i * game.size + j] = EMPTY\n",
    "                if eval > best_eval:\n",
    "                    best_eval = eval\n",
    "                    best_move = i * game.size + j\n",
    "    # print(\"best eval:\", best_eval)\n",
    "    return best_move\n",
    "\n"
   ]
  },
  {
   "cell_type": "code",
   "execution_count": 4,
   "metadata": {},
   "outputs": [
    {
     "name": "stdout",
     "output_type": "stream",
     "text": [
      "start, input 'i j' to select the place. from 0 to 2:\n",
      "— — — \n",
      "— — — \n",
      "— — — \n",
      "player 1 move:\n",
      "X — — \n",
      "— — — \n",
      "— — — \n",
      "computer move:\n",
      "X — — \n",
      "— O — \n",
      "— — — \n",
      "player 1 move:\n",
      "X — — \n",
      "— O — \n",
      "— — X \n",
      "computer move:\n",
      "X O — \n",
      "— O — \n",
      "— — X \n",
      "player 1 move:\n",
      "X O — \n",
      "— O — \n",
      "— X X \n",
      "computer move:\n",
      "X O — \n",
      "— O — \n",
      "O X X \n",
      "player 1 move:\n",
      "X O X \n",
      "— O — \n",
      "O X X \n",
      "computer move:\n",
      "X O X \n",
      "— O O \n",
      "O X X \n",
      "player 1 move:\n",
      "X O X \n",
      "X O O \n",
      "O X X \n",
      "draw\n"
     ]
    }
   ],
   "source": [
    "# play the game with minimax policy\n",
    "game_loop(policy_minimax)"
   ]
  },
  {
   "cell_type": "code",
   "execution_count": 8,
   "metadata": {},
   "outputs": [
    {
     "name": "stdout",
     "output_type": "stream",
     "text": [
      "minimax time: 116.21975524425507\n"
     ]
    }
   ],
   "source": [
    "# test minimax time \n",
    "import time\n",
    "start = time.time()\n",
    "game = TicTacToe(4)\n",
    "for _ in range(10):\n",
    "    policy_minimax(game)\n",
    "print(\"minimax time:\", (time.time() - start)/10)\n"
   ]
  }
 ],
 "metadata": {
  "kernelspec": {
   "display_name": "Python 3",
   "language": "python",
   "name": "python3"
  },
  "language_info": {
   "codemirror_mode": {
    "name": "ipython",
    "version": 3
   },
   "file_extension": ".py",
   "mimetype": "text/x-python",
   "name": "python",
   "nbconvert_exporter": "python",
   "pygments_lexer": "ipython3",
   "version": "3.8.10"
  }
 },
 "nbformat": 4,
 "nbformat_minor": 2
}
