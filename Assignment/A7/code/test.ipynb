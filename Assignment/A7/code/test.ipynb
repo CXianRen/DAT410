{
 "cells": [
  {
   "cell_type": "code",
   "execution_count": 2,
   "metadata": {},
   "outputs": [
    {
     "name": "stdout",
     "output_type": "stream",
     "text": [
      "{'Stockholm': {datetime.date(2024, 3, 5): (19, 21, 'sunny'), datetime.date(2024, 3, 6): (29, 80, 'sunny'), datetime.date(2024, 3, 7): (36, 46, 'sunny'), datetime.date(2024, 3, 8): (31, 71, 'sunny'), datetime.date(2024, 3, 9): (21, 86, 'rainy'), datetime.date(2024, 3, 10): (39, 34, 'rainy'), datetime.date(2024, 3, 11): (15, 20, 'cloudy'), datetime.date(2024, 3, 12): (16, 64, 'sunny'), datetime.date(2024, 3, 13): (13, 49, 'rainy'), datetime.date(2024, 3, 14): (37, 76, 'cloudy'), datetime.date(2024, 3, 15): (23, 67, 'cloudy'), datetime.date(2024, 3, 16): (33, 81, 'sunny'), datetime.date(2024, 3, 17): (18, 86, 'rainy'), datetime.date(2024, 3, 18): (13, 90, 'cloudy')}, 'Gothenburg': {datetime.date(2024, 3, 5): (10, 36, 'rainy'), datetime.date(2024, 3, 6): (29, 62, 'rainy'), datetime.date(2024, 3, 7): (37, 35, 'sunny'), datetime.date(2024, 3, 8): (34, 64, 'sunny'), datetime.date(2024, 3, 9): (36, 17, 'rainy'), datetime.date(2024, 3, 10): (18, 56, 'rainy'), datetime.date(2024, 3, 11): (23, 34, 'cloudy'), datetime.date(2024, 3, 12): (33, 46, 'rainy'), datetime.date(2024, 3, 13): (32, 47, 'cloudy'), datetime.date(2024, 3, 14): (25, 74, 'rainy'), datetime.date(2024, 3, 15): (22, 66, 'cloudy'), datetime.date(2024, 3, 16): (20, 54, 'cloudy'), datetime.date(2024, 3, 17): (18, 71, 'rainy'), datetime.date(2024, 3, 18): (37, 71, 'cloudy')}, 'Malmo': {datetime.date(2024, 3, 5): (25, 20, 'cloudy'), datetime.date(2024, 3, 6): (27, 56, 'cloudy'), datetime.date(2024, 3, 7): (22, 31, 'cloudy'), datetime.date(2024, 3, 8): (23, 82, 'sunny'), datetime.date(2024, 3, 9): (29, 49, 'sunny'), datetime.date(2024, 3, 10): (28, 51, 'cloudy'), datetime.date(2024, 3, 11): (20, 19, 'cloudy'), datetime.date(2024, 3, 12): (22, 88, 'rainy'), datetime.date(2024, 3, 13): (19, 87, 'sunny'), datetime.date(2024, 3, 14): (17, 31, 'rainy'), datetime.date(2024, 3, 15): (13, 81, 'sunny'), datetime.date(2024, 3, 16): (17, 82, 'cloudy'), datetime.date(2024, 3, 17): (12, 63, 'sunny'), datetime.date(2024, 3, 18): (28, 83, 'rainy')}, 'Uppsala': {datetime.date(2024, 3, 5): (39, 85, 'sunny'), datetime.date(2024, 3, 6): (22, 35, 'rainy'), datetime.date(2024, 3, 7): (37, 83, 'sunny'), datetime.date(2024, 3, 8): (26, 82, 'rainy'), datetime.date(2024, 3, 9): (37, 16, 'cloudy'), datetime.date(2024, 3, 10): (32, 84, 'sunny'), datetime.date(2024, 3, 11): (11, 82, 'rainy'), datetime.date(2024, 3, 12): (37, 60, 'rainy'), datetime.date(2024, 3, 13): (29, 31, 'sunny'), datetime.date(2024, 3, 14): (13, 87, 'rainy'), datetime.date(2024, 3, 15): (15, 13, 'cloudy'), datetime.date(2024, 3, 16): (39, 78, 'cloudy'), datetime.date(2024, 3, 17): (35, 54, 'sunny'), datetime.date(2024, 3, 18): (22, 66, 'cloudy')}, 'Lund': {datetime.date(2024, 3, 5): (38, 54, 'sunny'), datetime.date(2024, 3, 6): (14, 66, 'cloudy'), datetime.date(2024, 3, 7): (25, 88, 'rainy'), datetime.date(2024, 3, 8): (33, 66, 'cloudy'), datetime.date(2024, 3, 9): (15, 55, 'rainy'), datetime.date(2024, 3, 10): (36, 53, 'cloudy'), datetime.date(2024, 3, 11): (26, 68, 'rainy'), datetime.date(2024, 3, 12): (16, 22, 'rainy'), datetime.date(2024, 3, 13): (30, 29, 'sunny'), datetime.date(2024, 3, 14): (39, 33, 'cloudy'), datetime.date(2024, 3, 15): (30, 34, 'cloudy'), datetime.date(2024, 3, 16): (23, 56, 'cloudy'), datetime.date(2024, 3, 17): (22, 16, 'cloudy'), datetime.date(2024, 3, 18): (11, 31, 'rainy')}}\n",
      "(0, {datetime.date(2024, 3, 5): (19, 21, 'sunny'), datetime.date(2024, 3, 6): (29, 80, 'sunny'), datetime.date(2024, 3, 7): (36, 46, 'sunny'), datetime.date(2024, 3, 8): (31, 71, 'sunny'), datetime.date(2024, 3, 9): (21, 86, 'rainy'), datetime.date(2024, 3, 10): (39, 34, 'rainy'), datetime.date(2024, 3, 11): (15, 20, 'cloudy'), datetime.date(2024, 3, 12): (16, 64, 'sunny'), datetime.date(2024, 3, 13): (13, 49, 'rainy'), datetime.date(2024, 3, 14): (37, 76, 'cloudy'), datetime.date(2024, 3, 15): (23, 67, 'cloudy'), datetime.date(2024, 3, 16): (33, 81, 'sunny'), datetime.date(2024, 3, 17): (18, 86, 'rainy'), datetime.date(2024, 3, 18): (13, 90, 'cloudy')})\n",
      "(0, {datetime.date(2024, 3, 5): (19, 21, 'sunny'), datetime.date(2024, 3, 6): (29, 80, 'sunny'), datetime.date(2024, 3, 7): (36, 46, 'sunny'), datetime.date(2024, 3, 8): (31, 71, 'sunny'), datetime.date(2024, 3, 9): (21, 86, 'rainy'), datetime.date(2024, 3, 10): (39, 34, 'rainy'), datetime.date(2024, 3, 11): (15, 20, 'cloudy'), datetime.date(2024, 3, 12): (16, 64, 'sunny'), datetime.date(2024, 3, 13): (13, 49, 'rainy'), datetime.date(2024, 3, 14): (37, 76, 'cloudy'), datetime.date(2024, 3, 15): (23, 67, 'cloudy'), datetime.date(2024, 3, 16): (33, 81, 'sunny'), datetime.date(2024, 3, 17): (18, 86, 'rainy'), datetime.date(2024, 3, 18): (13, 90, 'cloudy')})\n",
      "(0, {datetime.date(2024, 3, 5): (19, 21, 'sunny'), datetime.date(2024, 3, 6): (29, 80, 'sunny'), datetime.date(2024, 3, 7): (36, 46, 'sunny'), datetime.date(2024, 3, 8): (31, 71, 'sunny'), datetime.date(2024, 3, 9): (21, 86, 'rainy'), datetime.date(2024, 3, 10): (39, 34, 'rainy'), datetime.date(2024, 3, 11): (15, 20, 'cloudy'), datetime.date(2024, 3, 12): (16, 64, 'sunny'), datetime.date(2024, 3, 13): (13, 49, 'rainy'), datetime.date(2024, 3, 14): (37, 76, 'cloudy'), datetime.date(2024, 3, 15): (23, 67, 'cloudy'), datetime.date(2024, 3, 16): (33, 81, 'sunny'), datetime.date(2024, 3, 17): (18, 86, 'rainy'), datetime.date(2024, 3, 18): (13, 90, 'cloudy')})\n",
      "(2, None)\n",
      "(1, None)\n"
     ]
    }
   ],
   "source": [
    "from data.generate_data import *\n",
    "\n",
    "\n",
    "\n",
    "city_weather_data = init_weather_data()\n",
    "print(city_weather_data)\n",
    "print(get_weather_data('Stockholm', datetime.date.today()))  # get weather data for today\n",
    "print(get_weather_data('Stockholm', datetime.date.today() + datetime.timedelta(days=1)))  # get weather data for tomorrow \n",
    "print(get_weather_data('Stockholm', datetime.date.today() + datetime.timedelta(days=13)))\n",
    "print(get_weather_data('Stockholm', datetime.date.today() + datetime.timedelta(days=14)))  # get weather data for 14 days\n",
    "print(get_weather_data('XXX', datetime.date.today()))  # get weather data for today\n",
    "\n",
    "# get weather data for 14 days\n",
    "\n"
   ]
  },
  {
   "cell_type": "code",
   "execution_count": 5,
   "metadata": {},
   "outputs": [],
   "source": [
    "def cities_parser(input):\n",
    "  return input\n",
    "\n",
    "\n",
    "\n",
    "WeatherFrame = {\n",
    "  \"slots\":[\n",
    "     # slot 1\n",
    "    {\n",
    "      \"slot_name\": \"city\",\n",
    "      \"slot_value\": \"Gothenburg\",\n",
    "      \"question\": \"What city do you want to know the weather for?\",\n",
    "      \"parser\": \"city_parser\",\n",
    "    }\n",
    "    # slot 2\n",
    "    {\n",
    "      \"slot_name\": \"date\",\n",
    "      \"slot_value\": datetime.date.today(),\n",
    "      \"question\": \"What date do you want to know the weather for?\",\n",
    "      \"parser\": \"date_parser\",\n",
    "    }\n",
    "  ],\n",
    "  \"output_template\", \"the weather in {city} on {date} is {weather} with a temperature of {temperature} degrees.\"\n",
    "}\n"
   ]
  },
  {
   "cell_type": "code",
   "execution_count": null,
   "metadata": {},
   "outputs": [],
   "source": [
    "import spacy\n",
    "\n",
    "# Load the English language model\n",
    "nlp = spacy.load(\"en_core_web_sm\")\n",
    "\n",
    "# Function to extract city from a sentence\n",
    "def extract_city(sentence):\n",
    "    # Process the sentence using spaCy\n",
    "    doc = nlp(sentence)\n",
    "    \n",
    "    # Extract entities\n",
    "    cities = [entity.text for entity in doc.ents if entity.label_ == \"GPE\"]\n",
    "    \n",
    "    return cities\n",
    "\n",
    "# Example sentence\n",
    "sentence = \"I live in New York City, but I work in San Francisco.\"\n",
    "\n",
    "# Extract city from the sentence\n",
    "cities = extract_city(sentence)\n",
    "\n",
    "if cities:\n",
    "    print(\"Cities mentioned in the sentence:\", cities)\n",
    "else:\n",
    "    print(\"No cities mentioned in the sentence.\")"
   ]
  }
 ],
 "metadata": {
  "kernelspec": {
   "display_name": "Python 3",
   "language": "python",
   "name": "python3"
  },
  "language_info": {
   "codemirror_mode": {
    "name": "ipython",
    "version": 3
   },
   "file_extension": ".py",
   "mimetype": "text/x-python",
   "name": "python",
   "nbconvert_exporter": "python",
   "pygments_lexer": "ipython3",
   "version": "3.8.10"
  }
 },
 "nbformat": 4,
 "nbformat_minor": 2
}
