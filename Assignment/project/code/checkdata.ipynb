{
 "cells": [
  {
   "cell_type": "code",
   "execution_count": 7,
   "metadata": {},
   "outputs": [
    {
     "name": "stdout",
     "output_type": "stream",
     "text": [
      "symptom_Description: has 41 rows, 2 columns\n",
      "dataset: has 4920 rows, 18 columns\n",
      "Symptom-severity: has 133 rows, 2 columns\n",
      "symptom_precaution: has 41 rows, 5 columns\n"
     ]
    }
   ],
   "source": [
    "import pandas as pd\n",
    "import glob\n",
    "\n",
    "# Read all the csv files in the current directory\n",
    "all_files = glob.glob('../data/*.csv')\n",
    "\n",
    "for filename in all_files:\n",
    "    df=pd.read_csv(filename)\n",
    "    # get the name of the file\n",
    "    name = filename.split('/')[-1].split('.')[0]\n",
    "    print(f'{name}: has {len(df)} rows, {df.shape[1]} columns')\n"
   ]
  },
  {
   "cell_type": "code",
   "execution_count": 10,
   "metadata": {},
   "outputs": [
    {
     "name": "stdout",
     "output_type": "stream",
     "text": [
      "          Disease                                        Description\n",
      "0   Drug Reaction  An adverse drug reaction (ADR) is an injury ca...\n",
      "1         Malaria  An infectious disease caused by protozoan para...\n",
      "2         Allergy  An allergy is an immune system response to a f...\n",
      "3  Hypothyroidism  Hypothyroidism, also called underactive thyroi...\n",
      "4       Psoriasis  Psoriasis is a common skin disorder that forms...\n",
      "0                               Drug Reaction\n",
      "1                                     Malaria\n",
      "2                                     Allergy\n",
      "3                              Hypothyroidism\n",
      "4                                   Psoriasis\n",
      "5                                        GERD\n",
      "6                         Chronic cholestasis\n",
      "7                                 hepatitis A\n",
      "8                             Osteoarthristis\n",
      "9     (vertigo) Paroymsal  Positional Vertigo\n",
      "10                               Hypoglycemia\n",
      "11                                       Acne\n",
      "12                                   Diabetes\n",
      "13                                   Impetigo\n",
      "14                               Hypertension\n",
      "15                        Peptic ulcer diseae\n",
      "16               Dimorphic hemorrhoids(piles)\n",
      "17                                Common Cold\n",
      "18                                Chicken pox\n",
      "19                       Cervical spondylosis\n",
      "20                            Hyperthyroidism\n",
      "21                    Urinary tract infection\n",
      "22                             Varicose veins\n",
      "23                                       AIDS\n",
      "24               Paralysis (brain hemorrhage)\n",
      "25                                    Typhoid\n",
      "26                                Hepatitis B\n",
      "27                           Fungal infection\n",
      "28                                Hepatitis C\n",
      "29                                   Migraine\n",
      "30                           Bronchial Asthma\n",
      "31                        Alcoholic hepatitis\n",
      "32                                   Jaundice\n",
      "33                                Hepatitis E\n",
      "34                                     Dengue\n",
      "35                                Hepatitis D\n",
      "36                               Heart attack\n",
      "37                                  Pneumonia\n",
      "38                                  Arthritis\n",
      "39                            Gastroenteritis\n",
      "40                               Tuberculosis\n",
      "Name: Disease, dtype: object\n"
     ]
    }
   ],
   "source": [
    "import pandas as pd\n",
    "\n",
    "file = '../data/symptom_Description.csv'\n",
    "\n",
    "df = pd.read_csv(file)\n",
    "\n",
    "print(df.head())\n",
    "# print the first column\n",
    "print(df.iloc[:, 0])\n"
   ]
  },
  {
   "cell_type": "code",
   "execution_count": null,
   "metadata": {},
   "outputs": [],
   "source": [
    "pattern_list = {\n",
    "    \"state_0_1\": [\n",
    "      \"Good morning! What brings you in today?\",\n",
    "      \"Hello there! How may I assist you this morning?\",\n",
    "      \"Good day! How may I be of service to you today?\",\n",
    "      \"Good morning! What can I do for you today?\",\n",
    "      \"Hello! How can I help you today?\",\n",
    "      \"Good day! What brings you in today?\",\n",
    "      \"Hello there! How may I assist you today?\",\n",
    "      \"Good morning! How can I help you today?\",\n",
    "      \"Hi there! How can I be of assistance to you today?\",\n",
    "    ],\n",
    "    \"state_1_1\": [\n",
    "      \"I understand. How long have you been experiencing these symptoms?\",\n",
    "      \"I see. Can you tell me how long you've been feeling this way?\",\n",
    "      \"Alright. How long have you been feeling like this?\",\n",
    "      \"I understand your situation. Can you tell me how long this has been going on?\",\n",
    "      \"I see. Can you give me an idea of how long you've been feeling like this?\",\n",
    "      \"Got it. Can you provide some information about how long you've been feeling this way?\",\n",
    "      \"Okay. How long has this been going on?\",\n",
    "      \"Understood. Can you tell me for how long you've been experiencing these symptoms?\",\n",
    "      \"I see. Can you tell me about the duration of your symptoms?\",\n",
    "      \"Alright. How long has this been a concern for you?\",\n",
    "    ],\n",
    "  \"state_2_1\": [\n",
    "      \"I apologize, could you please describe your symptoms to me? For example, any fever, vomiting, or other concerns?\",\n",
    "      \"I'm sorry, I didn't quite catch that. Could you let me know about any symptoms you're experiencing? Such as fever, vomiting, or anything else?\",\n",
    "      \"I'm sorry, I didn't understand. Can you tell me about any symptoms you're having? Like fever, vomiting, or any other issues?\",\n",
    "      \"I'm sorry, I didn't hear you clearly. Can you describe your symptoms for me? Things like fever, vomiting, or any other discomfort?\",\n",
    "      \"I'm sorry, I missed that. Can you please tell me about any symptoms you're experiencing? Such as fever, vomiting, or any other concerns?\",\n",
    "      \"Apologies, could you repeat that? Can you tell me about any symptoms you're having? Like fever, vomiting, or any other issues?\",\n",
    "      \"I'm sorry, I didn't catch that. Can you describe any symptoms you're experiencing? Such as fever, vomiting, or any other discomfort?\",\n",
    "      \"Sorry, could you provide more information? Can you describe any symptoms you're having? Like fever, vomiting, or any other issues?\",\n",
    "      \"Sorry, I didn't quite get that. Can you describe your symptoms for me? Such as fever, vomiting, or any other discomfort?\",\n",
    "      \"I'm sorry, can you please repeat that? Can you tell me about any symptoms you're experiencing? Like fever, vomiting, or any other concerns?\",\n",
    "  ]\n",
    "}\n",
    "\n",
    "# dump the dictionary to a json file\n",
    "import json\n",
    "\n",
    "with open('../data/patterns.json', 'w') as f:\n",
    "    json.dump(pattern_list, f, indent=2)"
   ]
  }
 ],
 "metadata": {
  "kernelspec": {
   "display_name": "Python 3",
   "language": "python",
   "name": "python3"
  },
  "language_info": {
   "codemirror_mode": {
    "name": "ipython",
    "version": 3
   },
   "file_extension": ".py",
   "mimetype": "text/x-python",
   "name": "python",
   "nbconvert_exporter": "python",
   "pygments_lexer": "ipython3",
   "version": "3.8.10"
  }
 },
 "nbformat": 4,
 "nbformat_minor": 2
}
