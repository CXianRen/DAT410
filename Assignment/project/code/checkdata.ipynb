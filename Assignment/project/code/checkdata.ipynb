{
 "cells": [
  {
   "cell_type": "code",
   "execution_count": 6,
   "metadata": {},
   "outputs": [
    {
     "name": "stdout",
     "output_type": "stream",
     "text": [
      "diabetes: has 768 rows, 9 columns\n",
      "framingham: has 4240 rows, 16 columns\n",
      "kidney_disease: has 400 rows, 26 columns\n",
      "indian_liver_patient: has 583 rows, 11 columns\n",
      "breast_cancer_wisconsin: has 569 rows, 33 columns\n",
      "heart_disease_uci: has 920 rows, 16 columns\n"
     ]
    }
   ],
   "source": [
    "import pandas as pd\n",
    "import glob\n",
    "\n",
    "# Read all the csv files in the current directory\n",
    "all_files = glob.glob('../data/*.csv')\n",
    "\n",
    "for filename in all_files:\n",
    "    df=pd.read_csv(filename)\n",
    "    # get the name of the file\n",
    "    name = filename.split('/')[-1].split('.')[0]\n",
    "    print(f'{name}: has {len(df)} rows, {df.shape[1]} columns')\n"
   ]
  },
  {
   "cell_type": "markdown",
   "metadata": {},
   "source": []
  }
 ],
 "metadata": {
  "kernelspec": {
   "display_name": "Python 3",
   "language": "python",
   "name": "python3"
  },
  "language_info": {
   "codemirror_mode": {
    "name": "ipython",
    "version": 3
   },
   "file_extension": ".py",
   "mimetype": "text/x-python",
   "name": "python",
   "nbconvert_exporter": "python",
   "pygments_lexer": "ipython3",
   "version": "3.8.10"
  }
 },
 "nbformat": 4,
 "nbformat_minor": 2
}
